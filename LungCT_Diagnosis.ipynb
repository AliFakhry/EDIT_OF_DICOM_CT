{
 "cells": [
  {
   "cell_type": "code",
   "execution_count": 1,
   "metadata": {},
   "outputs": [
    {
     "name": "stdout",
     "output_type": "stream",
     "text": [
      "Requirement already satisfied: opencv-python in /Users/alifakhry/anaconda3/envs/mlp/lib/python3.8/site-packages (4.6.0.66)\n",
      "Requirement already satisfied: numpy>=1.14.5 in /Users/alifakhry/anaconda3/envs/mlp/lib/python3.8/site-packages (from opencv-python) (1.22.3)\n",
      "Note: you may need to restart the kernel to use updated packages.\n"
     ]
    }
   ],
   "source": [
    "pip install opencv-python"
   ]
  },
  {
   "cell_type": "code",
   "execution_count": 2,
   "metadata": {},
   "outputs": [],
   "source": [
    "import math\n",
    "import pydicom as dicom # for reading dicom files\n",
    "import os # for doing directory operations \n",
    "import pandas as pd # for some simple data analysis \n",
    "import matplotlib.pyplot as plt\n",
    "import cv2\n",
    "import numpy as np\n",
    "import pydicom as dicom\n",
    "\n",
    "import numpy as np\n",
    "import matplotlib.pyplot as plt\n",
    "import random\n",
    "import sys"
   ]
  },
  {
   "cell_type": "code",
   "execution_count": 3,
   "metadata": {},
   "outputs": [],
   "source": [
    "#importing the layers from keras and all the necessary libraries\n",
    "import keras\n",
    "import tensorflow as tf\n",
    "\n",
    "from keras.models import Sequential\n",
    "from keras.layers import Dense, Dropout, Flatten, Lambda\n",
    "from keras.layers import Conv3D, MaxPooling3D, BatchNormalization\n",
    "from keras.optimizers import Adam\n",
    "import matplotlib.pyplot as plt\n",
    "import matplotlib.image as mpimg\n",
    "\n",
    "from tensorflow import keras\n",
    "\n",
    "import numpy as np\n",
    "import pandas as pd"
   ]
  },
  {
   "cell_type": "code",
   "execution_count": 4,
   "metadata": {},
   "outputs": [],
   "source": [
    "#improving accuracy with another architecture - HybridNET\n",
    "import keras\n",
    "from keras.layers import Conv2D, Conv3D, Flatten, Dense, Reshape, BatchNormalization\n",
    "from keras.layers import Dropout, Input\n",
    "from tensorflow.keras.models import Model\n",
    "from keras.optimizers import Adam\n",
    "from keras.callbacks import ModelCheckpoint\n",
    "from keras.utils import np_utils"
   ]
  },
  {
   "cell_type": "code",
   "execution_count": 5,
   "metadata": {},
   "outputs": [],
   "source": [
    "data_dir = \"/Users/alifakhry/Downloads/LungCT_Diagnosis-master/NBIA_Files/man/LungCT-Diagnosis/\""
   ]
  },
  {
   "cell_type": "code",
   "execution_count": 6,
   "metadata": {
    "colab": {
     "base_uri": "https://localhost:8080/",
     "height": 34
    },
    "colab_type": "code",
    "id": "GGhaKrN9zMPR",
    "outputId": "e05b326d-b053-43c2-89ea-b21d9c6fafd1"
   },
   "outputs": [
    {
     "name": "stdout",
     "output_type": "stream",
     "text": [
      "Requirement already satisfied: pydicom in /Users/alifakhry/anaconda3/envs/mlp/lib/python3.8/site-packages (2.3.1)\r\n"
     ]
    }
   ],
   "source": [
    "!pip install pydicom"
   ]
  },
  {
   "cell_type": "code",
   "execution_count": 7,
   "metadata": {
    "colab": {
     "base_uri": "https://localhost:8080/",
     "height": 225
    },
    "colab_type": "code",
    "id": "ws29hCInyN17",
    "outputId": "34a22353-df5e-4d98-a8cb-a04100253ff1"
   },
   "outputs": [
    {
     "data": {
      "text/html": [
       "<div>\n",
       "<style scoped>\n",
       "    .dataframe tbody tr th:only-of-type {\n",
       "        vertical-align: middle;\n",
       "    }\n",
       "\n",
       "    .dataframe tbody tr th {\n",
       "        vertical-align: top;\n",
       "    }\n",
       "\n",
       "    .dataframe thead th {\n",
       "        text-align: right;\n",
       "    }\n",
       "</style>\n",
       "<table border=\"1\" class=\"dataframe\">\n",
       "  <thead>\n",
       "    <tr style=\"text-align: right;\">\n",
       "      <th></th>\n",
       "      <th>Labels</th>\n",
       "    </tr>\n",
       "    <tr>\n",
       "      <th>Patient Id</th>\n",
       "      <th></th>\n",
       "    </tr>\n",
       "  </thead>\n",
       "  <tbody>\n",
       "    <tr>\n",
       "      <th>R_004</th>\n",
       "      <td>1</td>\n",
       "    </tr>\n",
       "    <tr>\n",
       "      <th>R_006</th>\n",
       "      <td>1</td>\n",
       "    </tr>\n",
       "    <tr>\n",
       "      <th>R_013</th>\n",
       "      <td>1</td>\n",
       "    </tr>\n",
       "    <tr>\n",
       "      <th>R_014</th>\n",
       "      <td>1</td>\n",
       "    </tr>\n",
       "    <tr>\n",
       "      <th>R_019</th>\n",
       "      <td>0</td>\n",
       "    </tr>\n",
       "  </tbody>\n",
       "</table>\n",
       "</div>"
      ],
      "text/plain": [
       "            Labels\n",
       "Patient Id        \n",
       "R_004            1\n",
       "R_006            1\n",
       "R_013            1\n",
       "R_014            1\n",
       "R_019            0"
      ]
     },
     "execution_count": 7,
     "metadata": {},
     "output_type": "execute_result"
    }
   ],
   "source": [
    "# Working Data Directory\n",
    "# data_dir = '/content/drive/My Drive/CT_Scan/LungCT-Diagnosis/'\n",
    "patients = os.listdir(data_dir)\n",
    "\n",
    "labels_df = pd.read_csv('LungCT-Labels - Sheet1.csv', index_col=0)\n",
    "\n",
    "labels_df.head()"
   ]
  },
  {
   "cell_type": "code",
   "execution_count": 8,
   "metadata": {
    "colab": {
     "base_uri": "https://localhost:8080/",
     "height": 184
    },
    "colab_type": "code",
    "id": "0DAGYR85zDlw",
    "outputId": "e4cf8c79-bd1e-42cc-9a1e-ac52fdcd76e5"
   },
   "outputs": [
    {
     "name": "stdout",
     "output_type": "stream",
     "text": [
      "(512, 512) 83\n",
      "(512, 512) 115\n",
      "(512, 512) 68\n",
      "(512, 512) 68\n",
      "(512, 512) 71\n",
      "(512, 512) 78\n",
      "(512, 512) 93\n",
      "(512, 512) 65\n",
      "(512, 512) 62\n",
      "(512, 512) 24\n"
     ]
    }
   ],
   "source": [
    "for patient in patients[:10]:\n",
    "    label = labels_df.at[patient, 'Labels']\n",
    "    path = data_dir + patient\n",
    "#slices= no. of scans in each patient folder    \n",
    "\n",
    "    slices = [dicom.read_file(path + '/' + s, force=True) for s in os.listdir(path)]\n",
    "    new_slices = []\n",
    "    for i in slices:\n",
    "        try:\n",
    "            y = i.ImagePositionPatient[2]\n",
    "            new_slices.append(i)\n",
    "        except:\n",
    "            pass\n",
    "    \n",
    "    new_slices.sort(key = lambda x: float(x.ImagePositionPatient[2]))\n",
    "    slices = new_slices\n",
    "\n",
    "    slices.sort(key = lambda x: int(x.ImagePositionPatient[2]))\n",
    "    print(slices[0].pixel_array.shape, len(slices))"
   ]
  },
  {
   "cell_type": "code",
   "execution_count": 9,
   "metadata": {
    "colab": {
     "base_uri": "https://localhost:8080/",
     "height": 33
    },
    "colab_type": "code",
    "id": "p365ghx43AIr",
    "outputId": "42d51fdd-76b1-423c-982b-c2a462ad5922"
   },
   "outputs": [
    {
     "data": {
      "text/plain": [
       "61"
      ]
     },
     "execution_count": 9,
     "metadata": {},
     "output_type": "execute_result"
    }
   ],
   "source": [
    "len(patients)"
   ]
  },
  {
   "cell_type": "code",
   "execution_count": 10,
   "metadata": {
    "colab": {
     "base_uri": "https://localhost:8080/",
     "height": 269
    },
    "colab_type": "code",
    "id": "gmjJD-5c3CWR",
    "outputId": "bfd00ac6-91b1-4ca0-932d-246e27195810"
   },
   "outputs": [
    {
     "data": {
      "image/png": "[encoded data removed]",
      "text/plain": [
       "<Figure size 432x288 with 1 Axes>"
      ]
     },
     "metadata": {
      "needs_background": "light"
     },
     "output_type": "display_data"
    }
   ],
   "source": [
    "for patient in patients[:1]:\n",
    "    label = labels_df.at[patient, 'Labels']\n",
    "    path = data_dir + patient\n",
    "\n",
    "    slices = [dicom.read_file(path + '/' + s, force=True) for s in os.listdir(path)]\n",
    "    new_slices = []\n",
    "    for i in slices:\n",
    "        try:\n",
    "            y = i.ImagePositionPatient[2]\n",
    "            new_slices.append(i)\n",
    "        except:\n",
    "            pass\n",
    "    \n",
    "    new_slices.sort(key = lambda x: float(x.ImagePositionPatient[2]))\n",
    "    slices = new_slices\n",
    "    \n",
    "    slices.sort(key = lambda x: int(x.ImagePositionPatient[2]))\n",
    "    \n",
    "    # displaying the first slice\n",
    "    plt.imshow(slices[0].pixel_array)\n",
    "    plt.show()"
   ]
  },
  {
   "cell_type": "code",
   "execution_count": 11,
   "metadata": {
    "colab": {
     "base_uri": "https://localhost:8080/",
     "height": 269
    },
    "colab_type": "code",
    "id": "evpnCf283FYb",
    "outputId": "987991a8-e56f-4c0b-a222-2351749b3306"
   },
   "outputs": [
    {
     "data": {
      "image/png": "[encoded data removed]",
      "text/plain": [
       "<Figure size 432x288 with 12 Axes>"
      ]
     },
     "metadata": {
      "needs_background": "light"
     },
     "output_type": "display_data"
    }
   ],
   "source": [
    "\n",
    "IMG_PX_SIZE = 150\n",
    "\n",
    "for patient in patients[:1]:\n",
    "    label = labels_df.at[patient, 'Labels']\n",
    "    path = data_dir + patient\n",
    "\n",
    "    slices = [dicom.read_file(path + '/' + s, force=True) for s in os.listdir(path)]\n",
    "    new_slices = []\n",
    "    for i in slices:\n",
    "        try:\n",
    "            y = i.ImagePositionPatient[2]\n",
    "            new_slices.append(i)\n",
    "        except:\n",
    "            pass\n",
    "    \n",
    "    new_slices.sort(key = lambda x: float(x.ImagePositionPatient[2]))\n",
    "    slices = new_slices\n",
    "    \n",
    "    slices.sort(key = lambda x: int(x.ImagePositionPatient[2]))\n",
    "    fig = plt.figure()\n",
    "    # displaying the images after resizing\n",
    "    for num,each_slice in enumerate(slices[:12]):\n",
    "        y = fig.add_subplot(3,4,num+1)\n",
    "        new_img = cv2.resize(np.array(each_slice.pixel_array),(IMG_PX_SIZE,IMG_PX_SIZE))\n",
    "        y.imshow(new_img)\n",
    "    plt.show()"
   ]
  },
  {
   "cell_type": "code",
   "execution_count": 12,
   "metadata": {
    "colab": {
     "base_uri": "https://localhost:8080/",
     "height": 1000
    },
    "colab_type": "code",
    "id": "Y82M7zI-73zF",
    "outputId": "74117e5b-659b-49aa-f110-4a896456de30"
   },
   "outputs": [
    {
     "name": "stdout",
     "output_type": "stream",
     "text": [
      "0\n",
      "83 20\n",
      "115 20\n",
      "68 20\n",
      "68 20\n",
      "71 20\n",
      "78 20\n",
      "93 20\n",
      "65 20\n",
      "62 20\n",
      "24 12\n",
      "74 20\n",
      "65 20\n",
      "69 20\n",
      "104 20\n",
      "88 20\n",
      "93 20\n",
      "58 20\n",
      "130 20\n",
      "65 20\n",
      "40 20\n",
      "63 20\n",
      "65 20\n",
      "62 20\n",
      "74 20\n",
      "49 20\n",
      "87 20\n",
      "76 20\n",
      "67 20\n",
      "80 20\n",
      "108 20\n",
      "77 20\n",
      "73 20\n",
      "34 20\n",
      "59 20\n",
      "55 20\n",
      "63 20\n",
      "87 20\n",
      "110 20\n",
      "86 20\n",
      "62 20\n",
      "98 20\n",
      "70 20\n",
      "76 20\n",
      "68 20\n",
      "74 20\n",
      "62 20\n",
      "118 20\n",
      "65 20\n",
      "67 20\n",
      "69 20\n",
      "79 20\n",
      "68 20\n",
      "150 20\n",
      "Corrupted.\n",
      "62 20\n",
      "63 20\n",
      "112 20\n",
      "111 20\n",
      "76 20\n",
      "69 20\n",
      "66 20\n"
     ]
    },
    {
     "name": "stderr",
     "output_type": "stream",
     "text": [
      "/Users/alifakhry/anaconda3/envs/mlp/lib/python3.8/site-packages/numpy/lib/npyio.py:518: VisibleDeprecationWarning: Creating an ndarray from ragged nested sequences (which is a list-or-tuple of lists-or-tuples-or ndarrays with different lengths or shapes) is deprecated. If you meant to do this, you must specify 'dtype=object' when creating the ndarray.\n",
      "  arr = np.asanyarray(arr)\n"
     ]
    }
   ],
   "source": [
    "# The entire image pre-processing functions\n",
    "\n",
    "\n",
    "IMG_SIZE_PX = 150\n",
    "SLICE_COUNT = 20\n",
    "\n",
    "def chunks(l, n):\n",
    "    for i in range(0, len(l), n):\n",
    "        yield l[i:i + n]\n",
    "\n",
    "\n",
    "def mean(a):\n",
    "    return sum(a) / len(a)\n",
    "\n",
    "\n",
    "def process_data(patient,labels_df,img_px_size=150, hm_slices=20, visualize=False):\n",
    "    \n",
    "    label = labels_df.at[patient, 'Labels']\n",
    "    path = data_dir + patient\n",
    "    \n",
    "    slices = [dicom.read_file(path + '/' + s, force=True) for s in os.listdir(path)]\n",
    "    new_slices = []\n",
    "    for i in slices:\n",
    "        try:\n",
    "            y = i.ImagePositionPatient[2]\n",
    "            new_slices.append(i)\n",
    "        except:\n",
    "            pass\n",
    "    \n",
    "    new_slices.sort(key = lambda x: float(x.ImagePositionPatient[2]))\n",
    "    slices = new_slices\n",
    "    new_slices = []\n",
    "    \n",
    "    slices = [cv2.resize(np.array(each_slice.pixel_array),(img_px_size,img_px_size)) for each_slice in slices]\n",
    "    \n",
    "    chunk_sizes = math.ceil(len(slices) / hm_slices)\n",
    "    for slice_chunk in chunks(slices, chunk_sizes):\n",
    "        slice_chunk = list(map(mean, zip(*slice_chunk)))\n",
    "        new_slices.append(slice_chunk)\n",
    "\n",
    "    if len(new_slices) == hm_slices-1:\n",
    "        new_slices.append(new_slices[-1])\n",
    "\n",
    "    if len(new_slices) == hm_slices-2:\n",
    "        new_slices.append(new_slices[-1])\n",
    "        new_slices.append(new_slices[-1])\n",
    "\n",
    "    if len(new_slices) == hm_slices+2:\n",
    "        new_val = list(map(mean, zip(*[new_slices[hm_slices-1],new_slices[hm_slices],])))\n",
    "        del new_slices[hm_slices]\n",
    "        new_slices[hm_slices-1] = new_val\n",
    "        \n",
    "    if len(new_slices) == hm_slices+1:\n",
    "        new_val = list(map(mean, zip(*[new_slices[hm_slices-1],new_slices[hm_slices],])))\n",
    "        del new_slices[hm_slices]\n",
    "        new_slices[hm_slices-1] = new_val\n",
    "\n",
    "    if len(new_slices) == hm_slices-3:\n",
    "        new_slices.append(new_slices[-1])\n",
    "        new_slices.append(new_slices[-1])\n",
    "        new_slices.append(new_slices[-1])\n",
    "\n",
    "    if len(new_slices) == hm_slices-4:\n",
    "        new_slices.append(new_slices[-1])\n",
    "        new_slices.append(new_slices[-1])\n",
    "        new_slices.append(new_slices[-1])\n",
    "        new_slices.append(new_slices[-1]) \n",
    "\n",
    "    if visualize:\n",
    "        fig = plt.figure()\n",
    "        for num,each_slice in enumerate(new_slices):\n",
    "            y = fig.add_subplot(4,5,num+1)\n",
    "            y.imshow(each_slice, cmap='gray')\n",
    "        plt.show()\n",
    "\n",
    "    if label == 1: label=np.array([0,1])\n",
    "    elif label == 0: label=np.array([1,0])\n",
    "    print(len(slices), len(new_slices))\n",
    "        \n",
    "    return np.array(new_slices),label\n",
    "\n",
    "patients = os.listdir(data_dir)\n",
    "labels = pd.read_csv('LungCT-Labels - Sheet1.csv', index_col=0)\n",
    "\n",
    "image_full_data = [] #list of the concatenated 3D images and their corresponding labels \n",
    "\n",
    "for num,patient in enumerate(patients):\n",
    "    if num % 100 == 0:\n",
    "        print(num)\n",
    "    try:\n",
    "        img_data,label = process_data(patient,labels,img_px_size=IMG_SIZE_PX, hm_slices=SLICE_COUNT)\n",
    "        #print(img_data.shape,label)\n",
    "        image_full_data.append([img_data, label])\n",
    "        # labels_data.append(label)\n",
    "    except:\n",
    "        print('Corrupted.')\n",
    "\n",
    "np.save('imagedata.npy'.format(IMG_SIZE_PX,IMG_SIZE_PX,SLICE_COUNT), image_full_data)\n"
   ]
  },
  {
   "cell_type": "code",
   "execution_count": 13,
   "metadata": {
    "colab": {
     "base_uri": "https://localhost:8080/",
     "height": 269
    },
    "colab_type": "code",
    "id": "Qt-ES2y83YSe",
    "outputId": "0f578d3d-bdcd-4ba2-d63a-6a361e776e8c"
   },
   "outputs": [
    {
     "data": {
      "image/png": "[encoded data removed]",
      "text/plain": [
       "<Figure size 432x288 with 20 Axes>"
      ]
     },
     "metadata": {
      "needs_background": "light"
     },
     "output_type": "display_data"
    }
   ],
   "source": [
    "HM_SLICES = 20\n",
    "\n",
    "for patient in patients[:1]:\n",
    "    label = labels_df.at[patient, 'Labels']\n",
    "    path = data_dir + patient\n",
    "    slices = [dicom.read_file(path + '/' + s, force=True) for s in os.listdir(path)]\n",
    "    new_slices = []\n",
    "    for i in slices:\n",
    "        try:\n",
    "            y = i.ImagePositionPatient[2]\n",
    "            new_slices.append(i)\n",
    "        except:\n",
    "            pass\n",
    "    \n",
    "    new_slices.sort(key = lambda x: float(x.ImagePositionPatient[2]))\n",
    "    slices = new_slices\n",
    "    new_slices = []\n",
    "\n",
    "    slices = [cv2.resize(np.array(each_slice.pixel_array),(IMG_PX_SIZE,IMG_PX_SIZE)) for each_slice in slices]\n",
    "    # Making the number of slices uniform for every patient by making chunks\n",
    "    chunk_sizes = math.ceil(len(slices) / HM_SLICES)\n",
    "    for slice_chunk in chunks(slices, chunk_sizes):\n",
    "        slice_chunk = list(map(mean, zip(*slice_chunk)))\n",
    "        new_slices.append(slice_chunk)\n",
    "\n",
    "    if len(new_slices) == HM_SLICES-1:\n",
    "        new_slices.append(new_slices[-1])\n",
    "\n",
    "    if len(new_slices) == HM_SLICES-2:\n",
    "        new_slices.append(new_slices[-1])\n",
    "        new_slices.append(new_slices[-1])\n",
    "\n",
    "    if len(new_slices) == HM_SLICES+2:\n",
    "        new_val = list(map(mean, zip(*[new_slices[HM_SLICES-1],new_slices[HM_SLICES],])))\n",
    "        del new_slices[HM_SLICES]\n",
    "        new_slices[HM_SLICES-1] = new_val\n",
    "        \n",
    "    if len(new_slices) == HM_SLICES+1:\n",
    "        new_val = list(map(mean, zip(*[new_slices[HM_SLICES-1],new_slices[HM_SLICES],])))\n",
    "        del new_slices[HM_SLICES]\n",
    "        new_slices[HM_SLICES-1] = new_val\n",
    "\n",
    "    if len(new_slices) == HM_SLICES-3:\n",
    "        new_slices.append(new_slices[-1])\n",
    "        new_slices.append(new_slices[-1])\n",
    "        new_slices.append(new_slices[-1])\n",
    "\n",
    "    if len(new_slices) == HM_SLICES-4:\n",
    "        new_slices.append(new_slices[-1])\n",
    "        new_slices.append(new_slices[-1])\n",
    "        new_slices.append(new_slices[-1])\n",
    "        new_slices.append(new_slices[-1])   \n",
    "      \n",
    "    #visualizing the slices\n",
    "    fig = plt.figure()\n",
    "    for num,each_slice in enumerate(new_slices):\n",
    "        y = fig.add_subplot(4,5,num+1)\n",
    "        y.imshow(each_slice, cmap='gray')\n",
    "    plt.show()"
   ]
  },
  {
   "cell_type": "code",
   "execution_count": 14,
   "metadata": {},
   "outputs": [],
   "source": [
    "t_y=[]\n",
    "t_x=[]\n",
    "\n",
    "v_x=[]\n",
    "v_y=[]"
   ]
  },
  {
   "cell_type": "code",
   "execution_count": 15,
   "metadata": {},
   "outputs": [],
   "source": [
    "def set_values(train_X,train_Y,valid_X,valid_Y):\n",
    "    global t_y\n",
    "    global t_x\n",
    "    global v_x\n",
    "    global v_y\n",
    "    \n",
    "    t_y = train_Y[:]\n",
    "    t_x = train_X[:]\n",
    "    v_x = valid_X[:]\n",
    "    v_y = valid_Y[:]"
   ]
  },
  {
   "cell_type": "code",
   "execution_count": 16,
   "metadata": {
    "colab": {
     "base_uri": "https://localhost:8080/",
     "height": 84
    },
    "colab_type": "code",
    "id": "wT8BFb_CFw6o",
    "outputId": "cb7a6e03-2cd8-47dc-8f6a-21ffd3af4dc3"
   },
   "outputs": [
    {
     "name": "stdout",
     "output_type": "stream",
     "text": [
      "Attempt:\n",
      "Broke!\n",
      "\n",
      "Attempt:\n",
      "Broke!\n",
      "\n",
      "Attempt:\n",
      "Broke!\n",
      "\n",
      "Attempt:\n",
      "\n",
      "(50, 2)\n",
      "(10, 2)\n",
      "(50, 20, 150, 150, 1)\n",
      "(10, 20, 150, 150, 1)\n"
     ]
    }
   ],
   "source": [
    "def rec():\n",
    "    \n",
    "    try:\n",
    "        \n",
    "        print(\"Attempt:\")\n",
    "    \n",
    "        image_full_data = np.load('imagedata.npy', allow_pickle=True)\n",
    "        #shuffling the image full data to remove the clustering of similar type of labels\n",
    "        random.shuffle(image_full_data)\n",
    "        # Preparing the train and validation sets\n",
    "        train_data = image_full_data[:50]\n",
    "        validation_data = image_full_data[50:]\n",
    "\n",
    "        train_Y=[]\n",
    "        valid_Y=[]\n",
    "        for data in train_data:\n",
    "            Y = data[1]\n",
    "            train_Y.append(Y)\n",
    "        for data in validation_data:\n",
    "            Y = data[1]\n",
    "          # print(Y)\n",
    "            valid_Y.append(Y)\n",
    "\n",
    "        valid_X = [data[0] for data in validation_data] \n",
    "        valid_X = np.concatenate([arr[np.newaxis] for arr in valid_X]) \n",
    "\n",
    "        train_X = [data[0] for data in train_data]\n",
    "        train_X = np.concatenate([arr[np.newaxis] for arr in train_X])  #creating a 4D array from 3 dimensional image arrays\n",
    "\n",
    "        train_X = np.reshape(train_X, (50,20,150,150,1))\n",
    "        #train_X = np.expand_dims(train_X, axis = 0)\n",
    "        train_Y = np.array(train_Y)\n",
    "        valid_X = np.reshape(valid_X, (10,20,150,150,1))\n",
    "        valid_Y = np.array(valid_Y)\n",
    "\n",
    "        print()\n",
    "        print(train_Y.shape)\n",
    "        print(valid_Y.shape)\n",
    "        print(train_X.shape)\n",
    "        print(valid_X.shape)\n",
    "\n",
    "        set_values(train_X,train_Y,valid_X,valid_Y)\n",
    "        \n",
    "        return\n",
    "                \n",
    "    except:\n",
    "        \n",
    "        print(\"Broke!\\n\")\n",
    "        \n",
    "        rec()\n",
    "        \n",
    "    \n",
    "rec()"
   ]
  },
  {
   "cell_type": "code",
   "execution_count": 17,
   "metadata": {
    "colab": {},
    "colab_type": "code",
    "id": "DEgQltHzXe2F"
   },
   "outputs": [
    {
     "name": "stdout",
     "output_type": "stream",
     "text": [
      "Model: \"sequential\"\n",
      "_________________________________________________________________\n",
      " Layer (type)                Output Shape              Param #   \n",
      "=================================================================\n",
      " conv3d (Conv3D)             (None, 20, 150, 150, 32)  896       \n",
      "                                                                 \n",
      " conv3d_1 (Conv3D)           (None, 20, 150, 150, 32)  27680     \n",
      "                                                                 \n",
      " max_pooling3d (MaxPooling3D  (None, 10, 75, 75, 32)   0         \n",
      " )                                                               \n",
      "                                                                 \n",
      " dropout (Dropout)           (None, 10, 75, 75, 32)    0         \n",
      "                                                                 \n",
      " conv3d_2 (Conv3D)           (None, 10, 75, 75, 64)    55360     \n",
      "                                                                 \n",
      " conv3d_3 (Conv3D)           (None, 10, 75, 75, 64)    110656    \n",
      "                                                                 \n",
      " max_pooling3d_1 (MaxPooling  (None, 5, 38, 38, 64)    0         \n",
      " 3D)                                                             \n",
      "                                                                 \n",
      " dropout_1 (Dropout)         (None, 5, 38, 38, 64)     0         \n",
      "                                                                 \n",
      " conv3d_4 (Conv3D)           (None, 5, 38, 38, 128)    221312    \n",
      "                                                                 \n",
      " conv3d_5 (Conv3D)           (None, 5, 38, 38, 128)    442496    \n",
      "                                                                 \n",
      " max_pooling3d_2 (MaxPooling  (None, 3, 19, 19, 128)   0         \n",
      " 3D)                                                             \n",
      "                                                                 \n",
      " dropout_2 (Dropout)         (None, 3, 19, 19, 128)    0         \n",
      "                                                                 \n",
      " conv3d_6 (Conv3D)           (None, 3, 19, 19, 256)    884992    \n",
      "                                                                 \n",
      " conv3d_7 (Conv3D)           (None, 3, 19, 19, 256)    1769728   \n",
      "                                                                 \n",
      " conv3d_8 (Conv3D)           (None, 3, 19, 19, 256)    1769728   \n",
      "                                                                 \n",
      " max_pooling3d_3 (MaxPooling  (None, 2, 10, 10, 256)   0         \n",
      " 3D)                                                             \n",
      "                                                                 \n",
      " conv3d_9 (Conv3D)           (None, 2, 10, 10, 512)    3539456   \n",
      "                                                                 \n",
      " conv3d_10 (Conv3D)          (None, 2, 10, 10, 512)    7078400   \n",
      "                                                                 \n",
      " conv3d_11 (Conv3D)          (None, 2, 10, 10, 512)    7078400   \n",
      "                                                                 \n",
      " max_pooling3d_4 (MaxPooling  (None, 1, 5, 5, 512)     0         \n",
      " 3D)                                                             \n",
      "                                                                 \n",
      " flatten (Flatten)           (None, 12800)             0         \n",
      "                                                                 \n",
      " dense (Dense)               (None, 1024)              13108224  \n",
      "                                                                 \n",
      " dropout_3 (Dropout)         (None, 1024)              0         \n",
      "                                                                 \n",
      " dense_1 (Dense)             (None, 1024)              1049600   \n",
      "                                                                 \n",
      " dropout_4 (Dropout)         (None, 1024)              0         \n",
      "                                                                 \n",
      " dense_2 (Dense)             (None, 2)                 2050      \n",
      "                                                                 \n",
      "=================================================================\n",
      "Total params: 37,138,978\n",
      "Trainable params: 37,138,978\n",
      "Non-trainable params: 0\n",
      "_________________________________________________________________\n"
     ]
    }
   ],
   "source": [
    "#3d sequential cnn architecture \n",
    "cnn4 = keras.Sequential([\n",
    "    Conv3D(32, kernel_size=(3, 3, 3), activation='relu', padding='same', input_shape=(20,150,150,1)),\n",
    "    Conv3D(32, kernel_size=(3, 3, 3), activation='relu', padding='same'),\n",
    "    MaxPooling3D(pool_size=(2, 2, 2), padding = 'same', data_format = 'channels_last'),\n",
    "    Dropout(0.2),\n",
    "    \n",
    "    Conv3D(64, kernel_size=(3, 3, 3), activation='relu', padding='same'),\n",
    "    Conv3D(64, kernel_size=(3, 3, 3), activation='relu', padding='same'),\n",
    "    MaxPooling3D(pool_size=(2, 2, 2), padding = 'same', data_format = 'channels_last'),\n",
    "    Dropout(0.2),\n",
    "    \n",
    "    Conv3D(128, kernel_size=(3, 3, 3), activation='relu', padding='same'),\n",
    "    Conv3D(128, kernel_size=(3, 3, 3), activation='relu', padding='same'),    \n",
    "    MaxPooling3D(pool_size=(2, 2, 2), padding = 'same', data_format = 'channels_last'),\n",
    "    Dropout(0.2),\n",
    "    \n",
    "    Conv3D(256, kernel_size=(3, 3, 3), activation='relu', padding='same'),\n",
    "    Conv3D(256, kernel_size=(3, 3, 3), activation='relu', padding='same'),\n",
    "    Conv3D(256, kernel_size=(3, 3, 3), activation='relu', padding='same'),\n",
    "    MaxPooling3D(pool_size=(2, 2, 2), padding = 'same', data_format = 'channels_last'),\n",
    "\n",
    "    Conv3D(512, kernel_size=(3, 3, 3), activation='relu', padding='same'),\n",
    "    Conv3D(512, kernel_size=(3, 3, 3), activation='relu', padding='same'),\n",
    "    Conv3D(512, kernel_size=(3, 3, 3), activation='relu', padding='same'),\n",
    "    MaxPooling3D(pool_size=(2, 2, 2), padding = 'same', data_format = 'channels_last'),\n",
    "\n",
    "    Flatten(),\n",
    "\n",
    "    Dense(1024, activation='sigmoid'),\n",
    "    Dropout(0.2),\n",
    "    Dense(1024, activation='sigmoid'),\n",
    "    Dropout(0.2),\n",
    "    Dense(2, activation='softmax')\n",
    "])\n",
    "cnn4.summary()"
   ]
  },
  {
   "cell_type": "code",
   "execution_count": 18,
   "metadata": {
    "colab": {},
    "colab_type": "code",
    "id": "uzkpIWx4Ym0a"
   },
   "outputs": [
    {
     "name": "stderr",
     "output_type": "stream",
     "text": [
      "/Users/alifakhry/anaconda3/envs/mlp/lib/python3.8/site-packages/keras/optimizers/optimizer_v2/gradient_descent.py:114: UserWarning: The `lr` argument is deprecated, use `learning_rate` instead.\n",
      "  super().__init__(name, **kwargs)\n"
     ]
    }
   ],
   "source": [
    "#compiling using stochastic gradient descent\n",
    "from keras.optimizers import SGD\n",
    "sgd = SGD(lr=1e-6)\n",
    "cnn4.compile(loss = 'binary_crossentropy', optimizer =sgd, metrics = [\"accuracy\"])"
   ]
  },
  {
   "cell_type": "code",
   "execution_count": 19,
   "metadata": {
    "colab": {
     "base_uri": "https://localhost:8080/",
     "height": 386
    },
    "colab_type": "code",
    "id": "D9G_mUTfYqjg",
    "outputId": "7ad2cdc0-8fe6-4d50-ab8b-a60a6755c309"
   },
   "outputs": [
    {
     "name": "stdout",
     "output_type": "stream",
     "text": [
      "Epoch 1/10\n",
      "10/10 [==============================] - 115s 11s/step - loss: 0.7173 - accuracy: 0.5200 - val_loss: 0.5726 - val_accuracy: 0.8000\n",
      "Epoch 2/10\n",
      "10/10 [==============================] - 111s 11s/step - loss: 0.7228 - accuracy: 0.5200 - val_loss: 0.5726 - val_accuracy: 0.8000\n",
      "Epoch 3/10\n",
      "10/10 [==============================] - 118s 12s/step - loss: 0.7395 - accuracy: 0.5200 - val_loss: 0.5726 - val_accuracy: 0.8000\n",
      "Epoch 4/10\n",
      "10/10 [==============================] - 118s 12s/step - loss: 0.7074 - accuracy: 0.5200 - val_loss: 0.5727 - val_accuracy: 0.8000\n",
      "Epoch 5/10\n",
      "10/10 [==============================] - 118s 12s/step - loss: 0.7296 - accuracy: 0.5200 - val_loss: 0.5727 - val_accuracy: 0.8000\n",
      "Epoch 6/10\n",
      "10/10 [==============================] - 119s 11s/step - loss: 0.7074 - accuracy: 0.5200 - val_loss: 0.5727 - val_accuracy: 0.8000\n",
      "Epoch 7/10\n",
      "10/10 [==============================] - 113s 11s/step - loss: 0.7346 - accuracy: 0.5200 - val_loss: 0.5727 - val_accuracy: 0.8000\n",
      "Epoch 8/10\n",
      "10/10 [==============================] - 115s 12s/step - loss: 0.7150 - accuracy: 0.5200 - val_loss: 0.5727 - val_accuracy: 0.8000\n",
      "Epoch 9/10\n",
      "10/10 [==============================] - 115s 12s/step - loss: 0.7306 - accuracy: 0.5200 - val_loss: 0.5728 - val_accuracy: 0.8000\n",
      "Epoch 10/10\n",
      "10/10 [==============================] - 116s 12s/step - loss: 0.7392 - accuracy: 0.5200 - val_loss: 0.5728 - val_accuracy: 0.8000\n"
     ]
    },
    {
     "data": {
      "text/plain": [
       "<keras.callbacks.History at 0x16cf43550>"
      ]
     },
     "execution_count": 19,
     "metadata": {},
     "output_type": "execute_result"
    }
   ],
   "source": [
    "#fitting the model\n",
    "cnn4.fit(t_x, t_y, batch_size=5, epochs=10, verbose=1, validation_data =(v_x,v_y))"
   ]
  },
  {
   "cell_type": "code",
   "execution_count": 20,
   "metadata": {},
   "outputs": [],
   "source": [
    "train_X = t_x\n",
    "train_Y = t_y\n",
    "valid_X = v_x\n",
    "valid_Y = v_y"
   ]
  },
  {
   "cell_type": "code",
   "execution_count": 21,
   "metadata": {
    "colab": {},
    "colab_type": "code",
    "id": "QLxitnIHc_0d"
   },
   "outputs": [
    {
     "name": "stderr",
     "output_type": "stream",
     "text": [
      "WARNING:absl:Found untraced functions such as _jit_compiled_convolution_op, _jit_compiled_convolution_op, _jit_compiled_convolution_op, _jit_compiled_convolution_op, _jit_compiled_convolution_op while saving (showing 5 of 12). These functions will not be directly callable after loading.\n"
     ]
    },
    {
     "name": "stdout",
     "output_type": "stream",
     "text": [
      "INFO:tensorflow:Assets written to: our_model/assets\n"
     ]
    },
    {
     "name": "stderr",
     "output_type": "stream",
     "text": [
      "INFO:tensorflow:Assets written to: our_model/assets\n"
     ]
    }
   ],
   "source": [
    "cnn4.save(\"our_model\")"
   ]
  },
  {
   "cell_type": "code",
   "execution_count": 22,
   "metadata": {},
   "outputs": [
    {
     "name": "stdout",
     "output_type": "stream",
     "text": [
      "Requirement already satisfied: scikit-learn in /Users/alifakhry/anaconda3/envs/mlp/lib/python3.8/site-packages (1.2.0)\n",
      "Requirement already satisfied: joblib>=1.1.1 in /Users/alifakhry/anaconda3/envs/mlp/lib/python3.8/site-packages (from scikit-learn) (1.2.0)\n",
      "Requirement already satisfied: threadpoolctl>=2.0.0 in /Users/alifakhry/anaconda3/envs/mlp/lib/python3.8/site-packages (from scikit-learn) (3.1.0)\n",
      "Requirement already satisfied: scipy>=1.3.2 in /Users/alifakhry/anaconda3/envs/mlp/lib/python3.8/site-packages (from scikit-learn) (1.9.3)\n",
      "Requirement already satisfied: numpy>=1.17.3 in /Users/alifakhry/anaconda3/envs/mlp/lib/python3.8/site-packages (from scikit-learn) (1.22.3)\n",
      "Note: you may need to restart the kernel to use updated packages.\n"
     ]
    }
   ],
   "source": [
    "pip install -U scikit-learn"
   ]
  },
  {
   "cell_type": "code",
   "execution_count": 23,
   "metadata": {},
   "outputs": [
    {
     "name": "stdout",
     "output_type": "stream",
     "text": [
      "Requirement already satisfied: plotly in /Users/alifakhry/anaconda3/envs/mlp/lib/python3.8/site-packages (5.11.0)\n",
      "Requirement already satisfied: tenacity>=6.2.0 in /Users/alifakhry/anaconda3/envs/mlp/lib/python3.8/site-packages (from plotly) (8.1.0)\n",
      "Note: you may need to restart the kernel to use updated packages.\n"
     ]
    }
   ],
   "source": [
    "pip install plotly"
   ]
  },
  {
   "cell_type": "code",
   "execution_count": 24,
   "metadata": {},
   "outputs": [
    {
     "data": {
      "text/html": [
       "        <script type=\"text/javascript\">\n",
       "        window.PlotlyConfig = {MathJaxConfig: 'local'};\n",
       "        if (window.MathJax && window.MathJax.Hub && window.MathJax.Hub.Config) {window.MathJax.Hub.Config({SVG: {font: \"STIX-Web\"}});}\n",
       "        if (typeof require !== 'undefined') {\n",
       "        require.undef(\"plotly\");\n",
       "        requirejs.config({\n",
       "            paths: {\n",
       "                'plotly': ['https://cdn.plot.ly/plotly-2.16.1.min']\n",
       "            }\n",
       "        });\n",
       "        require(['plotly'], function(Plotly) {\n",
       "            window._Plotly = Plotly;\n",
       "        });\n",
       "        }\n",
       "        </script>\n",
       "        "
      ]
     },
     "metadata": {},
     "output_type": "display_data"
    }
   ],
   "source": [
    "from sklearn.decomposition import PCA\n",
    "from sklearn.model_selection import train_test_split\n",
    "from sklearn.metrics import confusion_matrix, accuracy_score, classification_report, cohen_kappa_score\n",
    "\n",
    "from operator import truediv\n",
    "\n",
    "from plotly.offline import init_notebook_mode\n",
    "\n",
    "import numpy as np\n",
    "import matplotlib.pyplot as plt\n",
    "import scipy.io as sio\n",
    "import os\n",
    "\n",
    "\n",
    "init_notebook_mode(connected=True)\n",
    "%matplotlib inline"
   ]
  },
  {
   "cell_type": "code",
   "execution_count": 25,
   "metadata": {
    "colab": {
     "base_uri": "https://localhost:8080/",
     "height": 34
    },
    "colab_type": "code",
    "id": "YFqGIbNC9A9Q",
    "outputId": "9601a1fe-2999-41d5-8155-4ac3d4c1e36d"
   },
   "outputs": [
    {
     "name": "stdout",
     "output_type": "stream",
     "text": [
      "(None, 14, 144, 138, 32)\n"
     ]
    }
   ],
   "source": [
    "input_layer = Input((20, 150, 150, 1))\n",
    "\n",
    "## convolutional layers\n",
    "conv_layer1 = Conv3D(filters=8, kernel_size=(3, 3, 7), activation='relu')(input_layer)\n",
    "conv_layer2 = Conv3D(filters=16, kernel_size=(3, 3, 5), activation='relu')(conv_layer1)\n",
    "conv_layer3 = Conv3D(filters=32, kernel_size=(3, 3, 3), activation='relu')(conv_layer2)\n",
    "print(conv_layer3.shape)\n",
    "conv3d_shape = conv_layer3.shape\n",
    "conv_layer3 = Reshape((conv3d_shape[1], conv3d_shape[2], conv3d_shape[3]*conv3d_shape[4]))(conv_layer3) #reshaping the 3D layer to form a Conv2D layer\n",
    "conv_layer4 = Conv2D(filters=64, kernel_size=(3,3), activation='relu')(conv_layer3)\n",
    "\n",
    "flatten_layer = Flatten()(conv_layer4)\n",
    "\n",
    "## fully connected layers\n",
    "dense_layer1 = Dense(units=256, activation='relu')(flatten_layer)\n",
    "dense_layer1 = Dropout(0.4)(dense_layer1)\n",
    "dense_layer2 = Dense(units=128, activation='relu')(dense_layer1)\n",
    "dense_layer2 = Dropout(0.4)(dense_layer2)\n",
    "output_layer = Dense(units=2, activation='softmax')(dense_layer2)"
   ]
  },
  {
   "cell_type": "code",
   "execution_count": 26,
   "metadata": {
    "colab": {},
    "colab_type": "code",
    "id": "0gG0dkulIv33"
   },
   "outputs": [],
   "source": [
    "model = Model(inputs=input_layer, outputs=output_layer)"
   ]
  },
  {
   "cell_type": "code",
   "execution_count": 27,
   "metadata": {
    "colab": {
     "base_uri": "https://localhost:8080/",
     "height": 554
    },
    "colab_type": "code",
    "id": "3OAzipHrI48V",
    "outputId": "d30e91d7-47e2-444c-f515-17e8d4f82a9d"
   },
   "outputs": [
    {
     "name": "stdout",
     "output_type": "stream",
     "text": [
      "Model: \"model\"\n",
      "_________________________________________________________________\n",
      " Layer (type)                Output Shape              Param #   \n",
      "=================================================================\n",
      " input_1 (InputLayer)        [(None, 20, 150, 150, 1)  0         \n",
      "                             ]                                   \n",
      "                                                                 \n",
      " conv3d_12 (Conv3D)          (None, 18, 148, 144, 8)   512       \n",
      "                                                                 \n",
      " conv3d_13 (Conv3D)          (None, 16, 146, 140, 16)  5776      \n",
      "                                                                 \n",
      " conv3d_14 (Conv3D)          (None, 14, 144, 138, 32)  13856     \n",
      "                                                                 \n",
      " reshape (Reshape)           (None, 14, 144, 4416)     0         \n",
      "                                                                 \n",
      " conv2d (Conv2D)             (None, 12, 142, 64)       2543680   \n",
      "                                                                 \n",
      " flatten_1 (Flatten)         (None, 109056)            0         \n",
      "                                                                 \n",
      " dense_3 (Dense)             (None, 256)               27918592  \n",
      "                                                                 \n",
      " dropout_5 (Dropout)         (None, 256)               0         \n",
      "                                                                 \n",
      " dense_4 (Dense)             (None, 128)               32896     \n",
      "                                                                 \n",
      " dropout_6 (Dropout)         (None, 128)               0         \n",
      "                                                                 \n",
      " dense_5 (Dense)             (None, 2)                 258       \n",
      "                                                                 \n",
      "=================================================================\n",
      "Total params: 30,515,570\n",
      "Trainable params: 30,515,570\n",
      "Non-trainable params: 0\n",
      "_________________________________________________________________\n"
     ]
    }
   ],
   "source": [
    "model.summary()"
   ]
  },
  {
   "cell_type": "code",
   "execution_count": 28,
   "metadata": {
    "colab": {},
    "colab_type": "code",
    "id": "0uBroNohI8Mu"
   },
   "outputs": [
    {
     "name": "stderr",
     "output_type": "stream",
     "text": [
      "/Users/alifakhry/anaconda3/envs/mlp/lib/python3.8/site-packages/keras/optimizers/optimizer_v2/adam.py:117: UserWarning:\n",
      "\n",
      "The `lr` argument is deprecated, use `learning_rate` instead.\n",
      "\n"
     ]
    }
   ],
   "source": [
    "#compiling the model using adam optimizer\n",
    "adam = Adam(lr=0.001, decay=1e-06)\n",
    "model.compile(loss='categorical_crossentropy', optimizer=adam, metrics=['accuracy'])"
   ]
  },
  {
   "cell_type": "code",
   "execution_count": 29,
   "metadata": {
    "colab": {
     "base_uri": "https://localhost:8080/",
     "height": 218
    },
    "colab_type": "code",
    "id": "G8Nl1KRWJAU0",
    "outputId": "90eff82c-1789-42ec-cf1f-97a0f494b7b5"
   },
   "outputs": [
    {
     "name": "stdout",
     "output_type": "stream",
     "text": [
      "Epoch 1/5\n",
      "10/10 [==============================] - 35s 3s/step - loss: 4577.9517 - accuracy: 0.4800 - val_loss: 0.6490 - val_accuracy: 0.3000\n",
      "Epoch 2/5\n",
      "10/10 [==============================] - 33s 3s/step - loss: 1.1290 - accuracy: 0.5000 - val_loss: 0.6932 - val_accuracy: 0.2000\n",
      "Epoch 3/5\n",
      "10/10 [==============================] - 33s 3s/step - loss: 0.6843 - accuracy: 0.6200 - val_loss: 0.6921 - val_accuracy: 0.7000\n",
      "Epoch 4/5\n",
      "10/10 [==============================] - 37s 4s/step - loss: 0.6550 - accuracy: 0.4800 - val_loss: 0.6832 - val_accuracy: 0.8000\n",
      "Epoch 5/5\n",
      "10/10 [==============================] - 41s 4s/step - loss: 0.9547 - accuracy: 0.5800 - val_loss: 0.6222 - val_accuracy: 0.8000\n"
     ]
    },
    {
     "data": {
      "text/plain": [
       "<keras.callbacks.History at 0x2c295e160>"
      ]
     },
     "execution_count": 29,
     "metadata": {},
     "output_type": "execute_result"
    }
   ],
   "source": [
    "#fitting the model\n",
    "model.fit(train_X, train_Y, batch_size=5, epochs=5, verbose=1, validation_data =(valid_X,valid_Y))"
   ]
  },
  {
   "cell_type": "code",
   "execution_count": 30,
   "metadata": {
    "colab": {},
    "colab_type": "code",
    "id": "FFVxzIupzlYn"
   },
   "outputs": [
    {
     "name": "stderr",
     "output_type": "stream",
     "text": [
      "WARNING:absl:Found untraced functions such as _jit_compiled_convolution_op, _jit_compiled_convolution_op, _jit_compiled_convolution_op, _jit_compiled_convolution_op while saving (showing 4 of 4). These functions will not be directly callable after loading.\n"
     ]
    },
    {
     "name": "stdout",
     "output_type": "stream",
     "text": [
      "INFO:tensorflow:Assets written to: HybridNET/assets\n"
     ]
    },
    {
     "name": "stderr",
     "output_type": "stream",
     "text": [
      "INFO:tensorflow:Assets written to: HybridNET/assets\n"
     ]
    }
   ],
   "source": [
    "model.save(\"HybridNET\")"
   ]
  },
  {
   "cell_type": "code",
   "execution_count": null,
   "metadata": {},
   "outputs": [],
   "source": []
  }
 ],
 "metadata": {
  "colab": {
   "collapsed_sections": [],
   "name": "LungCT-Diagnosis.ipynb",
   "provenance": []
  },
  "kernelspec": {
   "display_name": "Python 3",
   "language": "python",
   "name": "python3"
  },
  "language_info": {
   "codemirror_mode": {
    "name": "ipython",
    "version": 3
   },
   "file_extension": ".py",
   "mimetype": "text/x-python",
   "name": "python",
   "nbconvert_exporter": "python",
   "pygments_lexer": "ipython3",
   "version": "3.8.15"
  }
 },
 "nbformat": 4,
 "nbformat_minor": 1
}
